{
 "cells": [
  {
   "cell_type": "code",
   "execution_count": 1,
   "id": "be3720ce",
   "metadata": {},
   "outputs": [],
   "source": [
    "import pandas as pd\n",
    "import numpy as np\n",
    "import matplotlib.pyplot as plt\n",
    "import seaborn as sns"
   ]
  },
  {
   "cell_type": "code",
   "execution_count": 4,
   "id": "ddb63cf4",
   "metadata": {},
   "outputs": [],
   "source": [
    "from statsmodels.tsa.stattools import adfuller\n",
    "from statsmodels.graphics.tsaplots import plot_acf\n",
    "from statsmodels.graphics.tsaplots import plot_pacf\n"
   ]
  },
  {
   "cell_type": "code",
   "execution_count": 3,
   "id": "32c8436e",
   "metadata": {},
   "outputs": [],
   "source": [
    "from math import sqrt"
   ]
  },
  {
   "cell_type": "code",
   "execution_count": 6,
   "id": "028e865d",
   "metadata": {},
   "outputs": [],
   "source": [
    "from sklearn.metrics import mean_squared_error"
   ]
  },
  {
   "cell_type": "code",
   "execution_count": 7,
   "id": "84a117d3",
   "metadata": {},
   "outputs": [],
   "source": [
    "from statsmodels.tsa.arima_model import ARIMA\n",
    "from statsmodels.tsa.statespace.sarimax import SARIMAX"
   ]
  },
  {
   "cell_type": "code",
   "execution_count": 8,
   "id": "55a2fb30",
   "metadata": {},
   "outputs": [],
   "source": [
    "import warnings\n",
    "warnings.filterwarnings(\"ignore\")"
   ]
  },
  {
   "cell_type": "code",
   "execution_count": 9,
   "id": "c555b331",
   "metadata": {},
   "outputs": [],
   "source": [
    "dataset = pd.read_csv(\"XRP_price.csv\",header = 0,\n",
    "                      infer_datetime_format = True,\n",
    "                      parse_dates = [\"Date\"],index_col = [\"Date\"])"
   ]
  },
  {
   "cell_type": "code",
   "execution_count": 10,
   "id": "d639d57e",
   "metadata": {},
   "outputs": [
    {
     "data": {
      "text/html": [
       "<div>\n",
       "<style scoped>\n",
       "    .dataframe tbody tr th:only-of-type {\n",
       "        vertical-align: middle;\n",
       "    }\n",
       "\n",
       "    .dataframe tbody tr th {\n",
       "        vertical-align: top;\n",
       "    }\n",
       "\n",
       "    .dataframe thead th {\n",
       "        text-align: right;\n",
       "    }\n",
       "</style>\n",
       "<table border=\"1\" class=\"dataframe\">\n",
       "  <thead>\n",
       "    <tr style=\"text-align: right;\">\n",
       "      <th></th>\n",
       "      <th>Close XRP</th>\n",
       "      <th>Volume XRP</th>\n",
       "      <th>Market Cap XRP</th>\n",
       "    </tr>\n",
       "    <tr>\n",
       "      <th>Date</th>\n",
       "      <th></th>\n",
       "      <th></th>\n",
       "      <th></th>\n",
       "    </tr>\n",
       "  </thead>\n",
       "  <tbody>\n",
       "    <tr>\n",
       "      <th>2013-08-05</th>\n",
       "      <td>0.005613</td>\n",
       "      <td>NaN</td>\n",
       "      <td>43879157</td>\n",
       "    </tr>\n",
       "    <tr>\n",
       "      <th>2013-08-06</th>\n",
       "      <td>0.004680</td>\n",
       "      <td>NaN</td>\n",
       "      <td>36591008</td>\n",
       "    </tr>\n",
       "    <tr>\n",
       "      <th>2013-08-07</th>\n",
       "      <td>0.004417</td>\n",
       "      <td>NaN</td>\n",
       "      <td>34534121</td>\n",
       "    </tr>\n",
       "    <tr>\n",
       "      <th>2013-08-08</th>\n",
       "      <td>0.004254</td>\n",
       "      <td>NaN</td>\n",
       "      <td>33258632</td>\n",
       "    </tr>\n",
       "    <tr>\n",
       "      <th>2013-08-09</th>\n",
       "      <td>0.004291</td>\n",
       "      <td>NaN</td>\n",
       "      <td>33547503</td>\n",
       "    </tr>\n",
       "    <tr>\n",
       "      <th>...</th>\n",
       "      <td>...</td>\n",
       "      <td>...</td>\n",
       "      <td>...</td>\n",
       "    </tr>\n",
       "    <tr>\n",
       "      <th>2018-12-12</th>\n",
       "      <td>0.307323</td>\n",
       "      <td>370325300.0</td>\n",
       "      <td>12577803841</td>\n",
       "    </tr>\n",
       "    <tr>\n",
       "      <th>2018-12-13</th>\n",
       "      <td>0.300026</td>\n",
       "      <td>303413883.0</td>\n",
       "      <td>12279148093</td>\n",
       "    </tr>\n",
       "    <tr>\n",
       "      <th>2018-12-14</th>\n",
       "      <td>0.288790</td>\n",
       "      <td>320266797.0</td>\n",
       "      <td>11819314866</td>\n",
       "    </tr>\n",
       "    <tr>\n",
       "      <th>2018-12-15</th>\n",
       "      <td>0.285883</td>\n",
       "      <td>277696890.0</td>\n",
       "      <td>11700328892</td>\n",
       "    </tr>\n",
       "    <tr>\n",
       "      <th>2018-12-16</th>\n",
       "      <td>0.287929</td>\n",
       "      <td>316135928.0</td>\n",
       "      <td>11784050729</td>\n",
       "    </tr>\n",
       "  </tbody>\n",
       "</table>\n",
       "<p>1960 rows × 3 columns</p>\n",
       "</div>"
      ],
      "text/plain": [
       "            Close XRP   Volume XRP  Market Cap XRP\n",
       "Date                                              \n",
       "2013-08-05   0.005613          NaN        43879157\n",
       "2013-08-06   0.004680          NaN        36591008\n",
       "2013-08-07   0.004417          NaN        34534121\n",
       "2013-08-08   0.004254          NaN        33258632\n",
       "2013-08-09   0.004291          NaN        33547503\n",
       "...               ...          ...             ...\n",
       "2018-12-12   0.307323  370325300.0     12577803841\n",
       "2018-12-13   0.300026  303413883.0     12279148093\n",
       "2018-12-14   0.288790  320266797.0     11819314866\n",
       "2018-12-15   0.285883  277696890.0     11700328892\n",
       "2018-12-16   0.287929  316135928.0     11784050729\n",
       "\n",
       "[1960 rows x 3 columns]"
      ]
     },
     "execution_count": 10,
     "metadata": {},
     "output_type": "execute_result"
    }
   ],
   "source": [
    "dataset"
   ]
  },
  {
   "cell_type": "code",
   "execution_count": 11,
   "id": "0c8fa00b",
   "metadata": {},
   "outputs": [],
   "source": [
    "dataset.fillna(0,inplace = True)"
   ]
  },
  {
   "cell_type": "code",
   "execution_count": 13,
   "id": "d5a3ea10",
   "metadata": {},
   "outputs": [],
   "source": [
    "dataset = dataset.astype('float32')"
   ]
  },
  {
   "cell_type": "code",
   "execution_count": 14,
   "id": "76b273a0",
   "metadata": {},
   "outputs": [],
   "source": [
    "count_yearly_days = dataset[\"Close XRP\"].resample(\"Y\").count()"
   ]
  },
  {
   "cell_type": "code",
   "execution_count": 15,
   "id": "309f61b6",
   "metadata": {},
   "outputs": [
    {
     "name": "stdout",
     "output_type": "stream",
     "text": [
      "Date\n",
      "2013-12-31    149\n",
      "2014-12-31    365\n",
      "2015-12-31    365\n",
      "2016-12-31    366\n",
      "2017-12-31    365\n",
      "2018-12-31    350\n",
      "Freq: A-DEC, Name: Close XRP, dtype: int64\n"
     ]
    }
   ],
   "source": [
    "print(count_yearly_days)"
   ]
  },
  {
   "cell_type": "code",
   "execution_count": 16,
   "id": "7107696a",
   "metadata": {},
   "outputs": [
    {
     "name": "stdout",
     "output_type": "stream",
     "text": [
      "Shape of the dataset : (1960, 3)\n",
      "\n",
      "First rows of the dataset :             Close XRP  Volume XRP  Market Cap XRP\n",
      "Date                                             \n",
      "2013-08-05   0.005613         0.0      43879156.0\n",
      "2013-08-06   0.004680         0.0      36591008.0\n",
      "2013-08-07   0.004417         0.0      34534120.0\n",
      "2013-08-08   0.004254         0.0      33258632.0\n",
      "2013-08-09   0.004291         0.0      33547504.0\n",
      "\n",
      "Statistics on the dataset :          Close XRP    Volume XRP  Market Cap XRP\n",
      "count  1960.000000  1.960000e+03    1.960000e+03\n",
      "mean      0.164995  2.000525e+08    6.352879e+09\n",
      "std       0.341782  6.846500e+08    1.334716e+10\n",
      "min       0.002810  0.000000e+00    2.196991e+07\n",
      "25%       0.006315  2.744888e+05    1.735673e+08\n",
      "50%       0.008615  9.076330e+05    2.580457e+08\n",
      "75%       0.211142  1.335985e+08    8.117047e+09\n",
      "max       3.380000  9.110440e+09    1.308535e+11\n"
     ]
    }
   ],
   "source": [
    "# summarize dataset\n",
    "print(\"Shape of the dataset :\", dataset.shape)\n",
    "print()\n",
    "print(\"First rows of the dataset :\", dataset.head())\n",
    "print()\n",
    "print(\"Statistics on the dataset :\",dataset.describe())"
   ]
  },
  {
   "cell_type": "code",
   "execution_count": 18,
   "id": "15386999",
   "metadata": {},
   "outputs": [],
   "source": [
    "values = dataset.values"
   ]
  },
  {
   "cell_type": "code",
   "execution_count": 20,
   "id": "439b4bef",
   "metadata": {},
   "outputs": [],
   "source": [
    "series = pd.Series(values[:,0])\n",
    "series.index = dataset.index\n",
    "series.index.name = \"Date\""
   ]
  },
  {
   "cell_type": "code",
   "execution_count": 24,
   "id": "0bd4ea72",
   "metadata": {
    "scrolled": true
   },
   "outputs": [
    {
     "data": {
      "text/html": [
       "<div>\n",
       "<style scoped>\n",
       "    .dataframe tbody tr th:only-of-type {\n",
       "        vertical-align: middle;\n",
       "    }\n",
       "\n",
       "    .dataframe tbody tr th {\n",
       "        vertical-align: top;\n",
       "    }\n",
       "\n",
       "    .dataframe thead th {\n",
       "        text-align: right;\n",
       "    }\n",
       "</style>\n",
       "<table border=\"1\" class=\"dataframe\">\n",
       "  <thead>\n",
       "    <tr style=\"text-align: right;\">\n",
       "      <th></th>\n",
       "      <th>Close XRP</th>\n",
       "      <th>Volume XRP</th>\n",
       "      <th>Market Cap XRP</th>\n",
       "    </tr>\n",
       "    <tr>\n",
       "      <th>Date</th>\n",
       "      <th></th>\n",
       "      <th></th>\n",
       "      <th></th>\n",
       "    </tr>\n",
       "  </thead>\n",
       "  <tbody>\n",
       "    <tr>\n",
       "      <th>2013-08-05</th>\n",
       "      <td>0.005613</td>\n",
       "      <td>0.0</td>\n",
       "      <td>43879156.0</td>\n",
       "    </tr>\n",
       "    <tr>\n",
       "      <th>2013-08-06</th>\n",
       "      <td>0.004680</td>\n",
       "      <td>0.0</td>\n",
       "      <td>36591008.0</td>\n",
       "    </tr>\n",
       "    <tr>\n",
       "      <th>2013-08-07</th>\n",
       "      <td>0.004417</td>\n",
       "      <td>0.0</td>\n",
       "      <td>34534120.0</td>\n",
       "    </tr>\n",
       "    <tr>\n",
       "      <th>2013-08-08</th>\n",
       "      <td>0.004254</td>\n",
       "      <td>0.0</td>\n",
       "      <td>33258632.0</td>\n",
       "    </tr>\n",
       "    <tr>\n",
       "      <th>2013-08-09</th>\n",
       "      <td>0.004291</td>\n",
       "      <td>0.0</td>\n",
       "      <td>33547504.0</td>\n",
       "    </tr>\n",
       "  </tbody>\n",
       "</table>\n",
       "</div>"
      ],
      "text/plain": [
       "            Close XRP  Volume XRP  Market Cap XRP\n",
       "Date                                             \n",
       "2013-08-05   0.005613         0.0      43879156.0\n",
       "2013-08-06   0.004680         0.0      36591008.0\n",
       "2013-08-07   0.004417         0.0      34534120.0\n",
       "2013-08-08   0.004254         0.0      33258632.0\n",
       "2013-08-09   0.004291         0.0      33547504.0"
      ]
     },
     "execution_count": 24,
     "metadata": {},
     "output_type": "execute_result"
    }
   ],
   "source": [
    "dataset.head()"
   ]
  },
  {
   "cell_type": "code",
   "execution_count": 23,
   "id": "1ff44e08",
   "metadata": {},
   "outputs": [],
   "source": [
    "groups = series['2013':'2018'].groupby(pd.Grouper(freq='Y'))"
   ]
  },
  {
   "cell_type": "code",
   "execution_count": 26,
   "id": "9622ffc5",
   "metadata": {},
   "outputs": [
    {
     "name": "stdout",
     "output_type": "stream",
     "text": [
      "2013-12-31 00:00:00 Date\n",
      "2013-08-05    0.005613\n",
      "2013-08-06    0.004680\n",
      "2013-08-07    0.004417\n",
      "2013-08-08    0.004254\n",
      "2013-08-09    0.004291\n",
      "                ...   \n",
      "2013-12-27    0.027076\n",
      "2013-12-28    0.027303\n",
      "2013-12-29    0.027218\n",
      "2013-12-30    0.027460\n",
      "2013-12-31    0.027330\n",
      "Length: 149, dtype: float32\n",
      "2014-12-31 00:00:00 Date\n",
      "2014-01-01    0.026944\n",
      "2014-01-02    0.028726\n",
      "2014-01-03    0.027627\n",
      "2014-01-04    0.028129\n",
      "2014-01-05    0.025230\n",
      "                ...   \n",
      "2014-12-27    0.024074\n",
      "2014-12-28    0.023764\n",
      "2014-12-29    0.024231\n",
      "2014-12-30    0.024200\n",
      "2014-12-31    0.024438\n",
      "Length: 365, dtype: float32\n",
      "2015-12-31 00:00:00 Date\n",
      "2015-01-01    0.024390\n",
      "2015-01-02    0.024318\n",
      "2015-01-03    0.022106\n",
      "2015-01-04    0.018928\n",
      "2015-01-05    0.020316\n",
      "                ...   \n",
      "2015-12-27    0.006343\n",
      "2015-12-28    0.006340\n",
      "2015-12-29    0.006264\n",
      "2015-12-30    0.006182\n",
      "2015-12-31    0.006040\n",
      "Length: 365, dtype: float32\n",
      "2016-12-31 00:00:00 Date\n",
      "2016-01-01    0.005955\n",
      "2016-01-02    0.006065\n",
      "2016-01-03    0.006017\n",
      "2016-01-04    0.005958\n",
      "2016-01-05    0.006044\n",
      "                ...   \n",
      "2016-12-27    0.006199\n",
      "2016-12-28    0.006173\n",
      "2016-12-29    0.006341\n",
      "2016-12-30    0.006426\n",
      "2016-12-31    0.006449\n",
      "Length: 366, dtype: float32\n",
      "2017-12-31 00:00:00 Date\n",
      "2017-01-01    0.006368\n",
      "2017-01-02    0.006311\n",
      "2017-01-03    0.006386\n",
      "2017-01-04    0.006570\n",
      "2017-01-05    0.006201\n",
      "                ...   \n",
      "2017-12-27    1.400000\n",
      "2017-12-28    1.430000\n",
      "2017-12-29    2.210000\n",
      "2017-12-30    2.160000\n",
      "2017-12-31    2.300000\n",
      "Length: 365, dtype: float32\n",
      "2018-12-31 00:00:00 Date\n",
      "2018-01-01    2.390000\n",
      "2018-01-02    2.480000\n",
      "2018-01-03    3.110000\n",
      "2018-01-04    3.200000\n",
      "2018-01-05    3.050000\n",
      "                ...   \n",
      "2018-12-12    0.307323\n",
      "2018-12-13    0.300026\n",
      "2018-12-14    0.288790\n",
      "2018-12-15    0.285883\n",
      "2018-12-16    0.287929\n",
      "Length: 350, dtype: float32\n"
     ]
    }
   ],
   "source": [
    "for name,groups in groups:\n",
    "    "
   ]
  },
  {
   "cell_type": "code",
   "execution_count": 40,
   "id": "9f111b37",
   "metadata": {},
   "outputs": [],
   "source": [
    "groups = series[\"2013\":\"2018\"].groupby(pd.Grouper(freq = \"Y\"))\n",
    "year_df = []"
   ]
  },
  {
   "cell_type": "code",
   "execution_count": 41,
   "id": "9bf87b22",
   "metadata": {},
   "outputs": [
    {
     "data": {
      "image/png": "[encoded data removed]",
      "text/plain": [
       "<Figure size 432x288 with 1 Axes>"
      ]
     },
     "metadata": {
      "needs_background": "light"
     },
     "output_type": "display_data"
    }
   ],
   "source": [
    "for name,groups in groups:\n",
    "    df = pd.DataFrame()\n",
    "    df[name.year] = groups.values\n",
    "    year_df.append(df)\n",
    "years = pd.concat(years_df,axis = 1,sort = False)\n",
    "years.boxplot()\n",
    "plt.show()\n",
    "        \n"
   ]
  },
  {
   "cell_type": "code",
   "execution_count": 42,
   "id": "0e2ebd2b",
   "metadata": {},
   "outputs": [
    {
     "data": {
      "image/png": "[encoded data removed]",
      "text/plain": [
       "<Figure size 432x288 with 1 Axes>"
      ]
     },
     "metadata": {
      "needs_background": "light"
     },
     "output_type": "display_data"
    }
   ],
   "source": [
    "series.plot()\n",
    "plt.ylabel(\"Price($USD)\")\n",
    "plt.xlabel(\"date\")\n",
    "plt.title(\"Evolution of XRP price with time\")\n",
    "plt.show()"
   ]
  },
  {
   "cell_type": "code",
   "execution_count": 43,
   "id": "3e5f06a2",
   "metadata": {},
   "outputs": [
    {
     "data": {
      "image/png": "[encoded data removed]",
      "text/plain": [
       "<Figure size 432x288 with 1 Axes>"
      ]
     },
     "metadata": {
      "needs_background": "light"
     },
     "output_type": "display_data"
    }
   ],
   "source": [
    "series.plot(loglog = True)\n",
    "plt.xlabel(\"Date\")\n",
    "plt.ylabel(\"Price($USD)\")\n",
    "plt.title('Evolution of Log(XRP price) with Time')\n",
    "plt.show()"
   ]
  },
  {
   "cell_type": "code",
   "execution_count": 44,
   "id": "7fc712cd",
   "metadata": {},
   "outputs": [
    {
     "data": {
      "image/png": "[encoded data removed]",
      "text/plain": [
       "<Figure size 432x288 with 2 Axes>"
      ]
     },
     "metadata": {
      "needs_background": "light"
     },
     "output_type": "display_data"
    }
   ],
   "source": [
    "plt.figure()\n",
    "plt.suptitle('XRP price distribution')\n",
    "plt.subplot(211)\n",
    "plt.xlabel('Price ($USD)')\n",
    "plt.ylabel('Counts')\n",
    "series.hist()\n",
    "plt.subplot(212)\n",
    "plt.xlabel('Price ($USD)')\n",
    "series.plot(kind='kde')\n",
    "plt.show()"
   ]
  },
  {
   "cell_type": "code",
   "execution_count": 45,
   "id": "319a3150",
   "metadata": {},
   "outputs": [
    {
     "data": {
      "image/png": "[encoded data removed]",
      "text/plain": [
       "<Figure size 576x576 with 2 Axes>"
      ]
     },
     "metadata": {
      "needs_background": "light"
     },
     "output_type": "display_data"
    }
   ],
   "source": [
    "fig, (ax1, ax2) = plt.subplots(nrows=2, ncols=1, figsize = (8,8))\n",
    "plot_acf(series, lags =100, ax = ax1)\n",
    "plot_pacf(series, lags =50, ax = ax2)\n",
    "plt.show()"
   ]
  },
  {
   "cell_type": "code",
   "execution_count": 46,
   "id": "08224cc0",
   "metadata": {},
   "outputs": [],
   "source": [
    "result = adfuller(series)"
   ]
  },
  {
   "cell_type": "code",
   "execution_count": 48,
   "id": "a633c878",
   "metadata": {},
   "outputs": [
    {
     "name": "stdout",
     "output_type": "stream",
     "text": [
      "ADF-statistic: -3.1228260165185793\n",
      "p-value: 0.02490943328849482\n",
      "critical-value\n",
      "\t1%:-3.434\n",
      "\t5%:-2.863\n",
      "\t10%:-2.568\n"
     ]
    }
   ],
   "source": [
    "print(\"ADF-statistic:\",result[0])\n",
    "print(\"p-value:\",result[1])\n",
    "print(\"critical-value\")\n",
    "for key,value in result[4].items():\n",
    "    print('\\t%s:%.3f'%(key,value))"
   ]
  },
  {
   "cell_type": "code",
   "execution_count": 54,
   "id": "81bf053a",
   "metadata": {},
   "outputs": [
    {
     "name": "stdout",
     "output_type": "stream",
     "text": [
      "Training dataset shape : (178, 7, 3)\n",
      "First row : [5.6130001e-03 0.0000000e+00 4.3879156e+07] ;Last row : [6.3680001e-03 4.1897800e+05 2.3140864e+08]\n",
      "Testing dataset shape: (102, 7, 3)\n",
      "First row: [6.311000e-03 1.046250e+06 2.293127e+08] ;Last row: [2.8792900e-01 3.1613594e+08 1.1784051e+10]\n"
     ]
    }
   ],
   "source": [
    "def split_dataset(data,n_test):\n",
    "    train,test = data[0:-n_test],data[-n_test:]\n",
    "    train = np.array(np.split(train,len(train)/7))\n",
    "    test = np.array(np.split(test,len(test)/7))\n",
    "    return train,test\n",
    "n_test = 714\n",
    "train,test = split_dataset(values,n_test)\n",
    "print(\"Training dataset shape :\",train.shape)\n",
    "print(\"First row :\",train[0,0,:],\";Last row :\",train[-1,-1,:])\n",
    "print(\"Testing dataset shape:\",test.shape)\n",
    "print(\"First row:\",test[0,0,:],\";Last row:\",test[-1,-1,:])"
   ]
  },
  {
   "cell_type": "code",
   "execution_count": 59,
   "id": "67b7216f",
   "metadata": {},
   "outputs": [
    {
     "data": {
      "text/plain": [
       "array([[[5.61300013e-03, 0.00000000e+00, 4.38791560e+07],\n",
       "        [4.67999978e-03, 0.00000000e+00, 3.65910080e+07],\n",
       "        [4.41699987e-03, 0.00000000e+00, 3.45341200e+07],\n",
       "        [4.25399980e-03, 0.00000000e+00, 3.32586320e+07],\n",
       "        [4.29099984e-03, 0.00000000e+00, 3.35475040e+07],\n",
       "        [4.31399979e-03, 0.00000000e+00, 3.37249680e+07],\n",
       "        [4.41499986e-03, 0.00000000e+00, 3.45184840e+07]],\n",
       "\n",
       "       [[4.44900012e-03, 0.00000000e+00, 3.47781960e+07],\n",
       "        [4.24499996e-03, 0.00000000e+00, 3.31903040e+07],\n",
       "        [3.78799997e-03, 0.00000000e+00, 2.96174500e+07],\n",
       "        [3.09200003e-03, 0.00000000e+00, 2.41726800e+07],\n",
       "        [3.13400012e-03, 0.00000000e+00, 2.44975140e+07],\n",
       "        [5.67100011e-03, 0.00000000e+00, 4.43353320e+07],\n",
       "        [5.61700016e-03, 0.00000000e+00, 4.39165280e+07]],\n",
       "\n",
       "       [[5.26000001e-03, 0.00000000e+00, 4.11253040e+07],\n",
       "        [6.09799987e-03, 0.00000000e+00, 4.76738840e+07],\n",
       "        [6.13099989e-03, 0.00000000e+00, 4.79287440e+07],\n",
       "        [5.14299981e-03, 0.00000000e+00, 4.02052160e+07],\n",
       "        [5.13899978e-03, 0.00000000e+00, 4.01729280e+07],\n",
       "        [5.54599985e-03, 0.00000000e+00, 4.33579400e+07],\n",
       "        [6.10399991e-03, 0.00000000e+00, 4.77195400e+07]],\n",
       "\n",
       "       [[6.41700020e-03, 0.00000000e+00, 5.01667720e+07],\n",
       "        [6.45199977e-03, 0.00000000e+00, 5.04413360e+07],\n",
       "        [6.24600006e-03, 0.00000000e+00, 4.88303040e+07],\n",
       "        [5.76299988e-03, 0.00000000e+00, 4.50513720e+07],\n",
       "        [5.92999998e-03, 0.00000000e+00, 4.63627440e+07],\n",
       "        [5.63200004e-03, 0.00000000e+00, 4.40286360e+07],\n",
       "        [5.78700006e-03, 0.00000000e+00, 4.52397840e+07]],\n",
       "\n",
       "       [[5.52800018e-03, 0.00000000e+00, 4.32162000e+07],\n",
       "        [5.66999987e-03, 0.00000000e+00, 4.43261040e+07],\n",
       "        [5.69499983e-03, 0.00000000e+00, 4.45228040e+07],\n",
       "        [5.71499998e-03, 0.00000000e+00, 4.46772880e+07],\n",
       "        [5.86599996e-03, 0.00000000e+00, 4.58563040e+07],\n",
       "        [6.17300021e-03, 0.00000000e+00, 4.82596000e+07],\n",
       "        [6.18299982e-03, 0.00000000e+00, 4.83383240e+07]],\n",
       "\n",
       "       [[6.26999978e-03, 0.00000000e+00, 4.90182480e+07],\n",
       "        [5.80799999e-03, 0.00000000e+00, 4.54048960e+07],\n",
       "        [6.27300004e-03, 0.00000000e+00, 4.90434200e+07],\n",
       "        [6.34900015e-03, 0.00000000e+00, 4.96328880e+07],\n",
       "        [6.51300000e-03, 0.00000000e+00, 5.09187760e+07],\n",
       "        [6.33999985e-03, 0.00000000e+00, 4.95641680e+07],\n",
       "        [6.47199992e-03, 0.00000000e+00, 5.05955840e+07]],\n",
       "\n",
       "       [[7.05600018e-03, 0.00000000e+00, 5.51642800e+07],\n",
       "        [9.61299986e-03, 0.00000000e+00, 7.51528240e+07],\n",
       "        [1.07819997e-02, 0.00000000e+00, 8.42917040e+07],\n",
       "        [1.09580001e-02, 0.00000000e+00, 8.56668720e+07],\n",
       "        [1.01129999e-02, 0.00000000e+00, 7.90631040e+07],\n",
       "        [9.70000029e-03, 0.00000000e+00, 7.58356400e+07],\n",
       "        [1.04059996e-02, 0.00000000e+00, 8.13537440e+07]],\n",
       "\n",
       "       [[1.00079998e-02, 0.00000000e+00, 7.82390960e+07],\n",
       "        [1.04480004e-02, 0.00000000e+00, 8.16844400e+07],\n",
       "        [1.04329996e-02, 0.00000000e+00, 8.15632640e+07],\n",
       "        [1.17130000e-02, 0.00000000e+00, 9.15740720e+07],\n",
       "        [1.45659996e-02, 0.00000000e+00, 1.13875384e+08],\n",
       "        [1.38349999e-02, 0.00000000e+00, 1.08162072e+08],\n",
       "        [1.28680002e-02, 0.00000000e+00, 1.00599040e+08]],\n",
       "\n",
       "       [[1.09320004e-02, 0.00000000e+00, 8.54675200e+07],\n",
       "        [1.05290003e-02, 0.00000000e+00, 8.23122160e+07],\n",
       "        [7.86199979e-03, 0.00000000e+00, 6.14663600e+07],\n",
       "        [9.11200047e-03, 0.00000000e+00, 7.12341920e+07],\n",
       "        [9.87299997e-03, 0.00000000e+00, 7.71871200e+07],\n",
       "        [9.48799960e-03, 0.00000000e+00, 7.41760640e+07],\n",
       "        [9.81900003e-03, 0.00000000e+00, 7.67644080e+07]],\n",
       "\n",
       "       [[9.23999958e-03, 0.00000000e+00, 7.22339360e+07],\n",
       "        [9.45100002e-03, 0.00000000e+00, 7.38844560e+07],\n",
       "        [9.66299977e-03, 0.00000000e+00, 7.55452880e+07],\n",
       "        [9.86099988e-03, 0.00000000e+00, 7.70896320e+07],\n",
       "        [8.96999985e-03, 0.00000000e+00, 7.01270960e+07],\n",
       "        [9.38200019e-03, 0.00000000e+00, 7.33478320e+07],\n",
       "        [8.41199979e-03, 0.00000000e+00, 6.57615080e+07]],\n",
       "\n",
       "       [[8.48899968e-03, 0.00000000e+00, 6.63665360e+07],\n",
       "        [8.05099960e-03, 0.00000000e+00, 6.29419080e+07],\n",
       "        [7.30499998e-03, 0.00000000e+00, 5.71077280e+07],\n",
       "        [8.34299996e-03, 0.00000000e+00, 6.52241080e+07],\n",
       "        [7.94200040e-03, 0.00000000e+00, 6.20933560e+07],\n",
       "        [7.25199981e-03, 0.00000000e+00, 5.66947120e+07],\n",
       "        [6.69999979e-03, 0.00000000e+00, 5.23771240e+07]]], dtype=float32)"
      ]
     },
     "execution_count": 59,
     "metadata": {},
     "output_type": "execute_result"
    }
   ],
   "source": [
    "train[0:11]"
   ]
  },
  {
   "cell_type": "code",
   "execution_count": null,
   "id": "012f0060",
   "metadata": {},
   "outputs": [],
   "source": [
    "def evaluate_forecasts(actual, predicted):\n",
    "    scores = list()\n",
    "    # calculate an RMSE score for each day\n",
    "    for i in range(actual.shape[1]):\n",
    "        # calculate mse\n",
    "        mse = mean_squared_error(actual[:, i], predicted[:, i])\n",
    "        # calculate rmse\n",
    "        rmse = sqrt(mse)\n",
    "        # store\n",
    "        scores.append(rmse)\n",
    "    # calculate overall RMSE\n",
    "    s = 0\n",
    "    for row in range(actual.shape[0]):\n",
    "        for col in range(actual.shape[1]):\n",
    "            s += (actual[row, col] - predicted[row, col])**2\n",
    "    score = sqrt(s / (actual.shape[0] * actual.shape[1]))\n",
    "    return score, scores"
   ]
  },
  {
   "cell_type": "code",
   "execution_count": null,
   "id": "f80888f5",
   "metadata": {},
   "outputs": [],
   "source": []
  },
  {
   "cell_type": "code",
   "execution_count": null,
   "id": "2fbbf731",
   "metadata": {},
   "outputs": [],
   "source": [
    "#Summarize scores\n",
    "def summarize_scores(name, score, scores):\n",
    "    s_scores = ', '.join(['%.1f' % s for s in scores])\n",
    "    print('%s: Total RMSE --> [%.3f]; Daily RMSE: %s' % (name, score, s_scores))"
   ]
  },
  {
   "cell_type": "code",
   "execution_count": null,
   "id": "bfdb9263",
   "metadata": {},
   "outputs": [],
   "source": []
  },
  {
   "cell_type": "code",
   "execution_count": null,
   "id": "6c5fc2e3",
   "metadata": {},
   "outputs": [],
   "source": []
  },
  {
   "cell_type": "code",
   "execution_count": null,
   "id": "53af4149",
   "metadata": {},
   "outputs": [],
   "source": []
  },
  {
   "cell_type": "code",
   "execution_count": null,
   "id": "ed3aa5ec",
   "metadata": {},
   "outputs": [],
   "source": []
  },
  {
   "cell_type": "code",
   "execution_count": null,
   "id": "535aa413",
   "metadata": {},
   "outputs": [],
   "source": []
  },
  {
   "cell_type": "code",
   "execution_count": 60,
   "id": "3c95dbaa",
   "metadata": {},
   "outputs": [],
   "source": [
    "def evaluate_forecasts(actual, predicted):\n",
    "    scores = list()\n",
    "    # calculate an RMSE score for each day\n",
    "    for i in range(actual.shape[1]):\n",
    "        # calculate mse\n",
    "        mse = mean_squared_error(actual[:, i], predicted[:, i])\n",
    "        # calculate rmse\n",
    "        rmse = sqrt(mse)\n",
    "        # store\n",
    "        scores.append(rmse)\n",
    "    # calculate overall RMSE\n",
    "    s = 0\n",
    "    for row in range(actual.shape[0]):\n",
    "        for col in range(actual.shape[1]):\n",
    "            s += (actual[row, col] - predicted[row, col])**2\n",
    "    score = sqrt(s / (actual.shape[0] * actual.shape[1]))\n",
    "    return score, scores\n",
    "def summarize_scores(name, score, scores):\n",
    "    s_scores = ', '.join(['%.1f' % s for s in scores])\n",
    "    print('%s: Total RMSE --> [%.3f]; Daily RMSE: %s' % (name, score, s_scores))\n",
    "def evaluate_model(model_func, train, test, *args):\n",
    "    #history of weekly data\n",
    "    history = [x for x in train]\n",
    "    #walk forward validation\n",
    "    predictions = list()\n",
    "    for i in range(len(test)):\n",
    "    #weekly prediction\n",
    "        y_hat_seq = model_func(history, *args)\n",
    "    #store the preditions\n",
    "        predictions.append(y_hat_seq)\n",
    "    #update history data\n",
    "        history.append(test[i,:])\n",
    "    predictions = np.array(predictions)\n",
    "    # evaluate predictions days for each week\n",
    "    score, scores = evaluate_forecasts(test[:, :, 0], predictions)\n",
    "    return score, scores, predictions#Summarize scores\n",
    "def summarize_scores(name, score, scores):\n",
    "    s_scores = ', '.join(['%.1f' % s for s in scores])\n",
    "    print('%s: Total RMSE --> [%.3f]; Daily RMSE: %s' % (name, score, s_scores))\n",
    "def to_series(data):\n",
    "    # extract just the price of XRP from each week\n",
    "    series = [week[:, 0] for week in data]\n",
    "    # flatten into a single series\n",
    "    series = np.array(series).flatten()\n",
    "    return series\n",
    "series = to_series(history)\n",
    "# define the model\n",
    "model = ARIMA(series, order=arima_order)\n",
    "# fit the model\n",
    "model_fit = model.fit(disp=False)\n",
    "\n",
    "def arima_forecast(history, arima_order):\n",
    "    # convert history into a univariate series\n",
    "    series = to_series(history)\n",
    "    # define the model\n",
    "    model = ARIMA(series, order=arima_order)\n",
    "    # fit the model\n",
    "    model_fit = model.fit(disp=False)\n",
    "    # make forecast\n",
    "    yhat = model_fit.predict(len(series), len(series)+6)\n",
    "    return yhat\n",
    "def Sarima_forecast(history, config):\n",
    "    order, sorder, trend = config\n",
    "    # convert history into a univariate series\n",
    "    series = to_series(history)\n",
    "    # define model\n",
    "    model = SARIMAX(series, order=order, seasonal_order=sorder, trend=trend, enforce_stationarity=False, enforce_invertibility=False)\n",
    "    # fit model\n",
    "    model_fit = model.fit(disp=False)\n",
    "    # make one step forecast\n",
    "    yhat = model_fit.predict(len(series), len(series)+6)\n",
    "    return yhat\n",
    "\n",
    "# define the names and functions for the models we wish to evaluate\n",
    "models = dict()\n",
    "models['arima'] = arima_forecast\n",
    "models['Sarima'] = Sarima_forecast\n",
    "\n",
    "# define both parameters for the 2 models\n",
    "arima_order = (1,0,0)\n",
    "config_sarima = (0,1,0),(0,0,0,0),'n'\n",
    "\n",
    "# list creation to store the parameters\n",
    "orders = list()\n",
    "orders.extend([arima_order, config_sarima])\n",
    "\n",
    "# list containing the days of the week for plot on a particular day\n",
    "days = ['mon', 'tue', 'wed', 'thr', 'fri', 'sat', 'sun']\n",
    "\n",
    "def evaluate_algorithms(models, orders):\n",
    "    prediction_simulations = list()\n",
    "    for (name, func), order in zip(models.items(), orders): # loop on dictionary items and list orders at same time\n",
    "        # evaluate and get scores\n",
    "        score, scores, predictions = evaluate_model(func, train, test, order)\n",
    "        # summarize scores\n",
    "        summarize_scores(name, score, scores)\n",
    "        # plot scores\n",
    "        plt.plot(days, scores, marker='o', label=name)\n",
    "        # append the simulation results in a list\n",
    "        prediction_simulations.append(predictions)\n",
    "    # plot properties and showing\n",
    "    plt.ylabel('RMSE')\n",
    "    plt.legend()\n",
    "    plt.show()\n",
    "    return prediction_simulations"
   ]
  },
  {
   "cell_type": "code",
   "execution_count": null,
   "id": "4087e15f",
   "metadata": {},
   "outputs": [],
   "source": []
  }
 ],
 "metadata": {
  "kernelspec": {
   "display_name": "Python 3 (ipykernel)",
   "language": "python",
   "name": "python3"
  },
  "language_info": {
   "codemirror_mode": {
    "name": "ipython",
    "version": 3
   },
   "file_extension": ".py",
   "mimetype": "text/x-python",
   "name": "python",
   "nbconvert_exporter": "python",
   "pygments_lexer": "ipython3",
   "version": "3.9.7"
  }
 },
 "nbformat": 4,
 "nbformat_minor": 5
}
