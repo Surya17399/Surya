{
 "cells": [
  {
   "cell_type": "code",
   "execution_count": null,
   "id": "c456cd36",
   "metadata": {},
   "outputs": [],
   "source": [
    "import pandas as pd\n",
    "import numpy as np\n",
    "import seaborn as sns\n",
    "import matplotlib.pyplot as plt\n",
    "import statsmodels.api as sm\n",
    "import warnings\n",
    "warnings.filterwarnings(\"ignore\")"
   ]
  },
  {
   "cell_type": "code",
   "execution_count": null,
   "id": "5669aed9",
   "metadata": {},
   "outputs": [],
   "source": [
    "df = pd.read_csv('fare.csv')"
   ]
  },
  {
   "cell_type": "code",
   "execution_count": null,
   "id": "c115a0b4",
   "metadata": {},
   "outputs": [],
   "source": [
    "df.shape"
   ]
  },
  {
   "cell_type": "code",
   "execution_count": null,
   "id": "d60bcf5f",
   "metadata": {},
   "outputs": [],
   "source": [
    "df.columns"
   ]
  },
  {
   "cell_type": "code",
   "execution_count": null,
   "id": "02665497",
   "metadata": {},
   "outputs": [],
   "source": [
    "#NULLVAlues\n",
    "df.isnull().sum()"
   ]
  },
  {
   "cell_type": "code",
   "execution_count": null,
   "id": "9e3a1045",
   "metadata": {},
   "outputs": [],
   "source": [
    "#EDA???\n",
    "df.dtypes"
   ]
  },
  {
   "cell_type": "code",
   "execution_count": null,
   "id": "8e6f7dbe",
   "metadata": {},
   "outputs": [],
   "source": [
    "df.describe()"
   ]
  },
  {
   "cell_type": "code",
   "execution_count": null,
   "id": "9fea1e20",
   "metadata": {},
   "outputs": [],
   "source": [
    "#Trip duration is in seconds.\n",
    "df['trip_duration'].describe()"
   ]
  },
  {
   "cell_type": "code",
   "execution_count": null,
   "id": "528b814c",
   "metadata": {},
   "outputs": [],
   "source": [
    "#MINIMUM = 0 - -----> Canceled Trip\n",
    "#maximum duration ----> 24hours"
   ]
  },
  {
   "cell_type": "code",
   "execution_count": null,
   "id": "f751701f",
   "metadata": {
    "scrolled": true
   },
   "outputs": [],
   "source": [
    "sns.distplot(df['trip_duration'])\n",
    "plt.show()"
   ]
  },
  {
   "cell_type": "code",
   "execution_count": null,
   "id": "5c7c9d29",
   "metadata": {},
   "outputs": [],
   "source": [
    "sns.distplot(df['distance_traveled'])\n",
    "plt.show()"
   ]
  },
  {
   "cell_type": "code",
   "execution_count": null,
   "id": "ef02afc6",
   "metadata": {},
   "outputs": [],
   "source": [
    "df['distance_traveled'].describe()"
   ]
  },
  {
   "cell_type": "code",
   "execution_count": null,
   "id": "baed35d9",
   "metadata": {},
   "outputs": [],
   "source": [
    "#analyse where ever trip duration is 0\n",
    "dff = df[['trip_duration', 'distance_traveled']]\n",
    "dff1 = dff[dff['trip_duration']==0]\n",
    "dff1.shape"
   ]
  },
  {
   "cell_type": "code",
   "execution_count": null,
   "id": "21abb838",
   "metadata": {},
   "outputs": [],
   "source": [
    "dff1"
   ]
  },
  {
   "cell_type": "code",
   "execution_count": null,
   "id": "bbbf3756",
   "metadata": {},
   "outputs": [],
   "source": [
    "df.columns"
   ]
  },
  {
   "cell_type": "code",
   "execution_count": null,
   "id": "8094b59b",
   "metadata": {},
   "outputs": [],
   "source": [
    "df['num_of_passengers'].nunique()"
   ]
  },
  {
   "cell_type": "code",
   "execution_count": null,
   "id": "64276af7",
   "metadata": {},
   "outputs": [],
   "source": [
    "df['num_of_passengers'].unique()"
   ]
  },
  {
   "cell_type": "code",
   "execution_count": null,
   "id": "f95c7806",
   "metadata": {},
   "outputs": [],
   "source": [
    "dff = df[['trip_duration', 'distance_traveled', 'num_of_passengers']]\n",
    "dff1 = dff[dff['num_of_passengers']==0]\n",
    "dff1.shape"
   ]
  },
  {
   "cell_type": "code",
   "execution_count": null,
   "id": "44c71f06",
   "metadata": {},
   "outputs": [],
   "source": [
    "dff1"
   ]
  },
  {
   "cell_type": "code",
   "execution_count": null,
   "id": "831dd607",
   "metadata": {},
   "outputs": [],
   "source": [
    "#Drop all tyhe rows where num_passengers==0 using drop functions\n",
    "df_index = df[df['num_of_passengers']==0].index\n",
    "df_index\n",
    "df = df.drop(index = df_index, axis = 0)\n"
   ]
  },
  {
   "cell_type": "code",
   "execution_count": null,
   "id": "b21c3e72",
   "metadata": {},
   "outputs": [],
   "source": []
  },
  {
   "cell_type": "code",
   "execution_count": null,
   "id": "7a47be30",
   "metadata": {},
   "outputs": [],
   "source": [
    "df.shape"
   ]
  },
  {
   "cell_type": "code",
   "execution_count": null,
   "id": "4745098f",
   "metadata": {},
   "outputs": [],
   "source": [
    "df.shape"
   ]
  },
  {
   "cell_type": "code",
   "execution_count": null,
   "id": "1a9636ec",
   "metadata": {},
   "outputs": [],
   "source": [
    "#dropping using slicing\n",
    "#dff_trial = df[df['num_of_passengers']!=0]"
   ]
  },
  {
   "cell_type": "code",
   "execution_count": null,
   "id": "e19a924d",
   "metadata": {},
   "outputs": [],
   "source": [
    "df.columns"
   ]
  },
  {
   "cell_type": "code",
   "execution_count": null,
   "id": "b4d514d2",
   "metadata": {},
   "outputs": [],
   "source": [
    "df.head()"
   ]
  },
  {
   "cell_type": "code",
   "execution_count": null,
   "id": "2abb2861",
   "metadata": {},
   "outputs": [],
   "source": [
    "#feature Engineering\n",
    "df['Total_Fare'] = df['fare'] +df['tip']+df['miscellaneous_fees']"
   ]
  },
  {
   "cell_type": "code",
   "execution_count": null,
   "id": "dda0f824",
   "metadata": {},
   "outputs": [],
   "source": [
    "df"
   ]
  },
  {
   "cell_type": "code",
   "execution_count": null,
   "id": "83e31086",
   "metadata": {},
   "outputs": [],
   "source": [
    "75.00+24+6.300"
   ]
  },
  {
   "cell_type": "code",
   "execution_count": null,
   "id": "9e8bf421",
   "metadata": {},
   "outputs": [],
   "source": [
    "df = df.drop(['fare', 'tip', 'miscellaneous_fees'], axis = 1)\n",
    "df"
   ]
  },
  {
   "cell_type": "code",
   "execution_count": null,
   "id": "1220bc77",
   "metadata": {},
   "outputs": [],
   "source": [
    "#Correlation\n",
    "df.corr()\n",
    "-0.5 to +0.5 wek correlation\n",
    "-0.65 to -1.0 strong negative correlation\n",
    "0.65 to 1.0 strong positive correlation"
   ]
  },
  {
   "cell_type": "code",
   "execution_count": null,
   "id": "1dc91259",
   "metadata": {},
   "outputs": [],
   "source": [
    "sns.scatterplot(x = df['distance_traveled'], y = df['Total_Fare'], hue = df['surge_applied'])"
   ]
  },
  {
   "cell_type": "code",
   "execution_count": null,
   "id": "85a0baad",
   "metadata": {},
   "outputs": [],
   "source": [
    "for i in df.columns:\n",
    "    sns.boxplot(df[i])\n",
    "    plt.title(i)\n",
    "    plt.show()"
   ]
  },
  {
   "cell_type": "code",
   "execution_count": null,
   "id": "135b4788",
   "metadata": {},
   "outputs": [],
   "source": [
    "def outlier_detection(data):\n",
    "    xx = data.columns\n",
    "    shapes = data.shape\n",
    "    \n",
    "    for i in xx:\n",
    "        print(f\"processing columns {i}\")\n",
    "        print(f\"old shape is {shapes}\")\n",
    "        \n",
    "        data_frame = data[i]\n",
    "        q1 = data_frame.quantile(0.25)\n",
    "        q3 = data_frame.quantile(0.75)\n",
    "        iqr = q3-q1\n",
    "        lower = q1 - 1.5*iqr\n",
    "        upper = q3 + 1.5*iqr\n",
    "        \n",
    "        outliers = data[(data[i] < lower) | (data[i]>upper)]\n",
    "        data.drop(index = outliers.index, inplace = True)\n",
    "        \n",
    "        print(f'New shape is {data.shape}')\n",
    "    return data"
   ]
  },
  {
   "cell_type": "code",
   "execution_count": null,
   "id": "60adc4b4",
   "metadata": {},
   "outputs": [],
   "source": []
  },
  {
   "cell_type": "code",
   "execution_count": null,
   "id": "fd5cf84e",
   "metadata": {},
   "outputs": [],
   "source": [
    "fin_df = outlier_detection(df)"
   ]
  },
  {
   "cell_type": "code",
   "execution_count": null,
   "id": "25267912",
   "metadata": {},
   "outputs": [],
   "source": []
  },
  {
   "cell_type": "code",
   "execution_count": null,
   "id": "349606be",
   "metadata": {},
   "outputs": [],
   "source": [
    "fin_df"
   ]
  },
  {
   "cell_type": "code",
   "execution_count": null,
   "id": "5e7e328b",
   "metadata": {},
   "outputs": [],
   "source": [
    "fin_df.corr()"
   ]
  },
  {
   "cell_type": "code",
   "execution_count": null,
   "id": "c84b1882",
   "metadata": {},
   "outputs": [],
   "source": [
    "sns.scatterplot(x= fin_df['distance_traveled'], y = fin_df['Total_Fare'])"
   ]
  },
  {
   "cell_type": "code",
   "execution_count": null,
   "id": "7c1a3ac8",
   "metadata": {},
   "outputs": [],
   "source": [
    "#LINearity\n",
    "#normality\n",
    "#multicollinearity\n",
    "#drop features VIF>5 or VIF>10\n",
    "#Or Do pCA(No need for now)\n",
    "#build a model\n",
    "#from summary do feature selection\n",
    "#with the selected featurtes build model again and check accuracy"
   ]
  },
  {
   "cell_type": "code",
   "execution_count": null,
   "id": "d46f64c2",
   "metadata": {},
   "outputs": [],
   "source": [
    "from sklearn.model_selection import train_test_split\n",
    "from sklearn.linear_model import LinearRegression"
   ]
  },
  {
   "cell_type": "code",
   "execution_count": null,
   "id": "500a8e44",
   "metadata": {},
   "outputs": [],
   "source": [
    "#!pip install scikit-learn"
   ]
  },
  {
   "cell_type": "code",
   "execution_count": null,
   "id": "338ba269",
   "metadata": {},
   "outputs": [],
   "source": [
    "x = df.drop('Total_Fare', axis = 1)\n",
    "y = df['Total_Fare']\n",
    "x"
   ]
  },
  {
   "cell_type": "code",
   "execution_count": null,
   "id": "9600a8fa",
   "metadata": {},
   "outputs": [],
   "source": [
    "xtrain, xtest, ytrain, ytest = train_test_split(x,y, test_size = 0.2, random_state = 10000)"
   ]
  },
  {
   "cell_type": "code",
   "execution_count": null,
   "id": "c509ff0c",
   "metadata": {},
   "outputs": [],
   "source": [
    "x.shape\n",
    "x.set_options()"
   ]
  },
  {
   "cell_type": "code",
   "execution_count": null,
   "id": "eaad670e",
   "metadata": {},
   "outputs": [],
   "source": [
    "ytrain.shape"
   ]
  },
  {
   "cell_type": "code",
   "execution_count": null,
   "id": "083fa109",
   "metadata": {},
   "outputs": [],
   "source": [
    "model  = LinearRegression().fit(xtrain, ytrain)"
   ]
  },
  {
   "cell_type": "code",
   "execution_count": null,
   "id": "d8f887f3",
   "metadata": {},
   "outputs": [],
   "source": [
    "model.coef_"
   ]
  },
  {
   "cell_type": "code",
   "execution_count": null,
   "id": "935e7fd3",
   "metadata": {},
   "outputs": [],
   "source": [
    "predicted = model.predict(xtest)"
   ]
  },
  {
   "cell_type": "code",
   "execution_count": null,
   "id": "8a953df1",
   "metadata": {},
   "outputs": [],
   "source": [
    "predicted"
   ]
  },
  {
   "cell_type": "code",
   "execution_count": null,
   "id": "64c9ae9e",
   "metadata": {},
   "outputs": [],
   "source": [
    "compare  =pd.DataFrame()\n",
    "compare['actual'] = ytest\n",
    "compare['predicted'] = predicted"
   ]
  },
  {
   "cell_type": "code",
   "execution_count": null,
   "id": "7abb3806",
   "metadata": {},
   "outputs": [],
   "source": [
    "compare['error'] = compare['actual']- compare['predicted']\n",
    "compare"
   ]
  },
  {
   "cell_type": "code",
   "execution_count": null,
   "id": "098aeb76",
   "metadata": {},
   "outputs": [],
   "source": [
    "sum(compare['error'])"
   ]
  },
  {
   "cell_type": "code",
   "execution_count": null,
   "id": "6426f671",
   "metadata": {},
   "outputs": [],
   "source": [
    "from sklearn.metrics import r2_score"
   ]
  },
  {
   "cell_type": "code",
   "execution_count": null,
   "id": "6cedface",
   "metadata": {},
   "outputs": [],
   "source": [
    "test_accuracy = r2_score(ytest, predicted)"
   ]
  },
  {
   "cell_type": "code",
   "execution_count": null,
   "id": "61749954",
   "metadata": {},
   "outputs": [],
   "source": [
    "test_accuracy"
   ]
  },
  {
   "cell_type": "code",
   "execution_count": null,
   "id": "276fce7b",
   "metadata": {},
   "outputs": [],
   "source": [
    "train_pred = model.predict(xtrain)"
   ]
  },
  {
   "cell_type": "code",
   "execution_count": null,
   "id": "a5e1af99",
   "metadata": {},
   "outputs": [],
   "source": [
    "train_accuracy = r2_score(ytrain , train_pred)\n",
    "train_accuracy"
   ]
  },
  {
   "cell_type": "code",
   "execution_count": null,
   "id": "05eb7e1b",
   "metadata": {},
   "outputs": [],
   "source": [
    "import statsmodels.api as sm"
   ]
  },
  {
   "cell_type": "code",
   "execution_count": null,
   "id": "58be49f7",
   "metadata": {},
   "outputs": [],
   "source": [
    "pr = sm.OLS(y,x).fit()"
   ]
  },
  {
   "cell_type": "code",
   "execution_count": null,
   "id": "357b4389",
   "metadata": {},
   "outputs": [],
   "source": [
    "pr.summary()"
   ]
  },
  {
   "cell_type": "code",
   "execution_count": null,
   "id": "6883295d",
   "metadata": {},
   "outputs": [],
   "source": [
    "#Linearity\n",
    "x\n",
    "x.columns"
   ]
  },
  {
   "cell_type": "markdown",
   "id": "769d721a",
   "metadata": {},
   "source": [
    "#H0 - No Linear Relationship between the Independent and dependent variable\n",
    "#Ha - Linear Relationship between the Independent and dependent variable"
   ]
  },
  {
   "cell_type": "code",
   "execution_count": null,
   "id": "4bd5a0e3",
   "metadata": {},
   "outputs": [],
   "source": [
    "from scipy.stats import pearsonr\n",
    "correlation = []\n",
    "p_value = []\n",
    "for columns in x.columns:\n",
    "    corr,pval = pearsonr(x[columns],y)\n",
    "    correlation.append(corr)\n",
    "    p_value.append(pval)\n",
    "pd.DataFrame({\"columns\":x.columns,\"correlation\":correlation,\"p_value\":p_value})\n",
    "x[\"num_of_passengers\"].value_counts()"
   ]
  },
  {
   "cell_type": "code",
   "execution_count": null,
   "id": "6bc4bcbd",
   "metadata": {},
   "outputs": [],
   "source": [
    "df.isnull().sum()"
   ]
  },
  {
   "cell_type": "code",
   "execution_count": null,
   "id": "3999d567",
   "metadata": {},
   "outputs": [],
   "source": [
    "df[\"num_of_passengers\"].value_counts()"
   ]
  },
  {
   "cell_type": "code",
   "execution_count": null,
   "id": "e331e5be",
   "metadata": {},
   "outputs": [],
   "source": [
    "#Homoscedasticity\n"
   ]
  },
  {
   "cell_type": "code",
   "execution_count": null,
   "id": "3ba4eb53",
   "metadata": {},
   "outputs": [],
   "source": [
    "residuals = pr.resid"
   ]
  },
  {
   "cell_type": "code",
   "execution_count": null,
   "id": "9194c360",
   "metadata": {},
   "outputs": [],
   "source": [
    "aux_mod = sm.OLS(residuals**2,x).fit()"
   ]
  },
  {
   "cell_type": "code",
   "execution_count": null,
   "id": "68e6130a",
   "metadata": {},
   "outputs": [],
   "source": [
    "aux_mod.summary()"
   ]
  },
  {
   "cell_type": "code",
   "execution_count": null,
   "id": "0ada0045",
   "metadata": {},
   "outputs": [],
   "source": [
    "statistics = aux_mod.ess/aux_mod.df_resid\n",
    "p_value = aux_mod.f_pvalue\n"
   ]
  },
  {
   "cell_type": "code",
   "execution_count": null,
   "id": "fba25ffe",
   "metadata": {},
   "outputs": [],
   "source": [
    "# Plot the residuals to check for heteroscedasticity visually\n",
    "plt.scatter(pr.fittedvalues, residuals)\n",
    "plt.xlabel('Fitted Values')\n",
    "plt.ylabel('Residuals')\n",
    "plt.title('Residuals vs Fitted Values')\n",
    "plt.axhline(y=0, color='red', linestyle='--')\n",
    "plt.show()"
   ]
  },
  {
   "cell_type": "code",
   "execution_count": null,
   "id": "96e3399b",
   "metadata": {},
   "outputs": [],
   "source": [
    "# Print the test results\n",
    "print(\"Breusch-Pagan Test Results:\")\n",
    "print(\"--------------------------\")\n",
    "print(\"Test Statistic:\", statistics)\n",
    "print(\"p-value:\", p_value)\n",
    "print(\"Heteroscedasticity is present.\") if p_value < 0.05 else print(\"Homoscedasticity is present.\")"
   ]
  },
  {
   "cell_type": "code",
   "execution_count": null,
   "id": "db54aa7d",
   "metadata": {},
   "outputs": [],
   "source": [
    "#normality in residuals\n",
    "from scipy.stats import shapiro,anderson\n",
    "residuals = pr.resid"
   ]
  },
  {
   "cell_type": "code",
   "execution_count": null,
   "id": "af693b87",
   "metadata": {},
   "outputs": [],
   "source": [
    "stat_shapiro,p_shapiro = shapiro(residuals)\n",
    "alpha = 0.05\n",
    "if p_shapiro >alpha:\n",
    "    print(\"residuals are normally distributed\")\n",
    "else:\n",
    "    print(\"residuals are not normally distributed\")"
   ]
  },
  {
   "cell_type": "code",
   "execution_count": null,
   "id": "670379f0",
   "metadata": {},
   "outputs": [],
   "source": [
    "result = anderson(residuals)\n",
    "\n",
    "    "
   ]
  },
  {
   "cell_type": "code",
   "execution_count": null,
   "id": "ba1945a3",
   "metadata": {},
   "outputs": [],
   "source": [
    "result"
   ]
  },
  {
   "cell_type": "code",
   "execution_count": null,
   "id": "f3ff1edc",
   "metadata": {},
   "outputs": [],
   "source": [
    "for i in range(len(result.critical_values)):\n",
    "    sl,cr_val = result.significance_level[i],result.critical_values[i]\n",
    "    if result.statistic < cr_val:\n",
    "        print(f\"Residuals are normally distributed at {sl} significance level - H0\")\n",
    "    else:\n",
    "        print(f\"Residuals are not normally distributed at {sl} significance level - H0\")\n",
    "        "
   ]
  },
  {
   "cell_type": "code",
   "execution_count": null,
   "id": "1d96f7f0",
   "metadata": {},
   "outputs": [],
   "source": [
    "result.significance_level[0]"
   ]
  },
  {
   "cell_type": "code",
   "execution_count": null,
   "id": "969d6cd6",
   "metadata": {},
   "outputs": [],
   "source": [
    "from scipy.stats import boxcox\n",
    "fitted_values,lamda = boxcox(df[\"Total_Fare\"])\n",
    "y = fitted_values"
   ]
  },
  {
   "cell_type": "code",
   "execution_count": null,
   "id": "f3eaf2b1",
   "metadata": {},
   "outputs": [],
   "source": [
    "y = df[df[\"Total_Fare\"]==0].index\n",
    "df.drop(index = y,axis = 1,inplace = True)"
   ]
  },
  {
   "cell_type": "code",
   "execution_count": null,
   "id": "49112502",
   "metadata": {},
   "outputs": [],
   "source": [
    "x = df.drop(\"Total_Fare\",axis =1,inplace = True)\n"
   ]
  },
  {
   "cell_type": "code",
   "execution_count": null,
   "id": "60239ee6",
   "metadata": {},
   "outputs": [],
   "source": [
    "df"
   ]
  },
  {
   "cell_type": "code",
   "execution_count": null,
   "id": "47043585",
   "metadata": {},
   "outputs": [],
   "source": []
  }
 ],
 "metadata": {
  "kernelspec": {
   "display_name": "Python 3 (ipykernel)",
   "language": "python",
   "name": "python3"
  },
  "language_info": {
   "codemirror_mode": {
    "name": "ipython",
    "version": 3
   },
   "file_extension": ".py",
   "mimetype": "text/x-python",
   "name": "python",
   "nbconvert_exporter": "python",
   "pygments_lexer": "ipython3",
   "version": "3.9.7"
  }
 },
 "nbformat": 4,
 "nbformat_minor": 5
}
