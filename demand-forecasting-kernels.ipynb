{
 "cells": [
  {
   "cell_type": "code",
   "execution_count": null,
   "id": "4488314a",
   "metadata": {},
   "outputs": [],
   "source": [
    "import warnings \n",
    "warnings.filterwarnings('ignore')\n",
    "import numpy as np # linear algebra\n",
    "import pandas as pd # data processing, CSV file I/O (e.g. pd.read_csv)\n",
    "%matplotlib inline\n",
    "import matplotlib.pyplot as plt  # Matlab-style plotting\n",
    "import seaborn as sns\n",
    "import statsmodels.api as sm\n",
    "\n",
    "color = sns.color_palette()\n",
    "sns.set_style('darkgrid')"
   ]
  },
  {
   "cell_type": "code",
   "execution_count": null,
   "id": "4bef3fb0",
   "metadata": {},
   "outputs": [],
   "source": [
    "train = pd.read_csv('../input/demand-forecasting-kernels-only/train.csv')\n",
    "train['date'] = pd.to_datetime(train['date'], format=\"%Y-%m-%d\")\n",
    "\n",
    "train.head()"
   ]
  },
  {
   "cell_type": "code",
   "execution_count": null,
   "id": "1e598d9f",
   "metadata": {},
   "outputs": [],
   "source": [
    "# per 1 store, 1 item\n",
    "train_df = train[train['store']==1]\n",
    "train_df = train_df[train['item']==1]\n",
    "# train_df = train_df.set_index('date')\n",
    "train_df['year'] = train['date'].dt.year\n",
    "train_df['month'] = train['date'].dt.month\n",
    "train_df['day'] = train['date'].dt.dayofyear\n",
    "train_df['weekday'] = train['date'].dt.weekday\n",
    "\n",
    "train_df.head()"
   ]
  },
  {
   "cell_type": "code",
   "execution_count": null,
   "id": "e65c603f",
   "metadata": {},
   "outputs": [],
   "source": [
    "sns.lineplot(x=\"date\", y=\"sales\",legend = 'full' , data=train_df)"
   ]
  },
  {
   "cell_type": "code",
   "execution_count": null,
   "id": "16c62b8b",
   "metadata": {},
   "outputs": [],
   "source": [
    "sns.lineplot(x=\"date\", y=\"sales\",legend = 'full' , data=train_df[:28])"
   ]
  },
  {
   "cell_type": "code",
   "execution_count": null,
   "id": "5ceb9746",
   "metadata": {},
   "outputs": [],
   "source": [
    "sns.boxplot(x=\"weekday\", y=\"sales\", data=train_df)"
   ]
  },
  {
   "cell_type": "code",
   "execution_count": null,
   "id": "b49a1118",
   "metadata": {},
   "outputs": [],
   "source": [
    "train_df = train_df.set_index('date')\n",
    "train_df['sales'] = train_df['sales'].astype(float)\n",
    "\n",
    "train_df.head()"
   ]
  },
  {
   "cell_type": "code",
   "execution_count": null,
   "id": "ef5e623b",
   "metadata": {},
   "outputs": [],
   "source": [
    "from statsmodels.tsa.seasonal import seasonal_decompose\n",
    "result = seasonal_decompose(train_df['sales'], model='additive', freq=365)\n",
    "\n",
    "fig = plt.figure()  \n",
    "fig = result.plot()  \n",
    "fig.set_size_inches(15, 12)"
   ]
  },
  {
   "cell_type": "code",
   "execution_count": null,
   "id": "35247612",
   "metadata": {},
   "outputs": [],
   "source": [
    "from statsmodels.tsa.stattools import adfuller\n",
    "def test_stationarity(timeseries, window = 12, cutoff = 0.01):\n",
    "\n",
    "    #Determing rolling statistics\n",
    "    rolmean = timeseries.rolling(window).mean()\n",
    "    rolstd = timeseries.rolling(window).std()\n",
    "\n",
    "    #Plot rolling statistics:\n",
    "    fig = plt.figure(figsize=(12, 8))\n",
    "    orig = plt.plot(timeseries, color='blue',label='Original')\n",
    "    mean = plt.plot(rolmean, color='red', label='Rolling Mean')\n",
    "    std = plt.plot(rolstd, color='black', label = 'Rolling Std')\n",
    "    plt.legend(loc='best')\n",
    "    plt.title('Rolling Mean & Standard Deviation')\n",
    "    plt.show()\n",
    "    print('Results of Dickey-Fuller Test:')\n",
    "    dftest = adfuller(timeseries, autolag='AIC', maxlag = 20 )\n",
    "    dfoutput = pd.Series(dftest[0:4], index=['Test Statistic','p-value','#Lags Used','Number of Observations Used'])\n",
    "    for key,value in dftest[4].items():\n",
    "        dfoutput['Critical Value (%s)'%key] = value\n",
    "    pvalue = dftest[1]\n",
    "    if pvalue < cutoff:\n",
    "        print('p-value = %.4f. The series is likely stationary.' % pvalue)\n",
    "    else:\n",
    "        print('p-value = %.4f. The series is likely non-stationary.' % pvalue)\n",
    "    \n",
    "    print(dfoutput)"
   ]
  },
  {
   "cell_type": "code",
   "execution_count": null,
   "id": "1012a264",
   "metadata": {},
   "outputs": [],
   "source": [
    "test_stationarity(train_df['sales'])"
   ]
  },
  {
   "cell_type": "code",
   "execution_count": null,
   "id": "95b95e67",
   "metadata": {},
   "outputs": [],
   "source": [
    "first_diff = train_df.sales - train_df.sales.shift(1)\n",
    "first_diff = first_diff.dropna(inplace = False)\n",
    "test_stationarity(first_diff, window = 12)"
   ]
  },
  {
   "cell_type": "code",
   "execution_count": null,
   "id": "be1d4c75",
   "metadata": {},
   "outputs": [],
   "source": [
    "import statsmodels.api as sm\n",
    "fig = plt.figure(figsize=(12,8))\n",
    "ax1 = fig.add_subplot(211)\n",
    "fig = sm.graphics.tsa.plot_acf(train_df.sales, lags=40, ax=ax1) # \n",
    "ax2 = fig.add_subplot(212)\n",
    "fig = sm.graphics.tsa.plot_pacf(train_df.sales, lags=40, ax=ax2)#"
   ]
  },
  {
   "cell_type": "code",
   "execution_count": null,
   "id": "804ed025",
   "metadata": {},
   "outputs": [],
   "source": [
    "fig = plt.figure(figsize=(12,8))\n",
    "ax1 = fig.add_subplot(211)\n",
    "fig = sm.graphics.tsa.plot_acf(first_diff, lags=40, ax=ax1)\n",
    "ax2 = fig.add_subplot(212)\n",
    "fig = sm.graphics.tsa.plot_pacf(first_diff, lags=40, ax=ax2)"
   ]
  },
  {
   "cell_type": "code",
   "execution_count": null,
   "id": "697f2551",
   "metadata": {},
   "outputs": [],
   "source": [
    "arima_mod6 = sm.tsa.ARIMA(train_df.sales, (6,1,0)).fit(disp=False)\n",
    "print(arima_mod6.summary())"
   ]
  },
  {
   "cell_type": "code",
   "execution_count": null,
   "id": "6a2920a7",
   "metadata": {},
   "outputs": [],
   "source": [
    "from scipy import stats\n",
    "from scipy.stats import normaltest\n",
    "\n",
    "resid = arima_mod6.resid\n",
    "print(normaltest(resid))\n",
    "# returns a 2-tuple of the chi-squared statistic, and the associated p-value. the p-value is very small, meaning\n",
    "# the residual is not a normal distribution\n",
    "\n",
    "fig = plt.figure(figsize=(12,8))\n",
    "ax0 = fig.add_subplot(111)\n",
    "\n",
    "sns.distplot(resid ,fit = stats.norm, ax = ax0) # need to import scipy.stats\n",
    "\n",
    "# Get the fitted parameters used by the function\n",
    "(mu, sigma) = stats.norm.fit(resid)\n",
    "\n",
    "#Now plot the distribution using \n",
    "plt.legend(['Normal dist. ($\\mu=$ {:.2f} and $\\sigma=$ {:.2f} )'.format(mu, sigma)], loc='best')\n",
    "plt.ylabel('Frequency')\n",
    "plt.title('Residual distribution')\n",
    "\n",
    "\n",
    "# ACF and PACF\n",
    "fig = plt.figure(figsize=(12,8))\n",
    "ax1 = fig.add_subplot(211)\n",
    "fig = sm.graphics.tsa.plot_acf(arima_mod6.resid, lags=40, ax=ax1)\n",
    "ax2 = fig.add_subplot(212)\n",
    "fig = sm.graphics.tsa.plot_pacf(arima_mod6.resid, lags=40, ax=ax2)"
   ]
  },
  {
   "cell_type": "code",
   "execution_count": null,
   "id": "fafdfd27",
   "metadata": {},
   "outputs": [],
   "source": [
    "sarima_mod6 = sm.tsa.statespace.SARIMAX(train_df.sales, trend='n', order=(6,1,0)).fit()\n",
    "print(sarima_mod6.summary())"
   ]
  },
  {
   "cell_type": "code",
   "execution_count": null,
   "id": "479c390c",
   "metadata": {},
   "outputs": [],
   "source": [
    "esid = sarima_mod6.resid\n",
    "print(normaltest(resid))\n",
    "\n",
    "fig = plt.figure(figsize=(12,8))\n",
    "ax0 = fig.add_subplot(111)\n",
    "\n",
    "sns.distplot(resid ,fit = stats.norm, ax = ax0) # need to import scipy.stats\n",
    "\n",
    "# Get the fitted parameters used by the function\n",
    "(mu, sigma) = stats.norm.fit(resid)\n",
    "\n",
    "#Now plot the distribution using \n",
    "plt.legend(['Normal dist. ($\\mu=$ {:.2f} and $\\sigma=$ {:.2f} )'.format(mu, sigma)], loc='best')\n",
    "plt.ylabel('Frequency')\n",
    "plt.title('Residual distribution')\n",
    "\n",
    "\n",
    "# ACF and PACF\n",
    "fig = plt.figure(figsize=(12,8))\n",
    "ax1 = fig.add_subplot(211)\n",
    "fig = sm.graphics.tsa.plot_acf(arima_mod6.resid, lags=40, ax=ax1)\n",
    "ax2 = fig.add_subplot(212)\n",
    "fig = sm.graphics.tsa.plot_pacf(arima_mod6.resid, lags=40, ax=ax2)"
   ]
  },
  {
   "cell_type": "code",
   "execution_count": null,
   "id": "4549fd1f",
   "metadata": {},
   "outputs": [],
   "source": [
    "start_index = 1730\n",
    "end_index = 1826\n",
    "train_df['forecast'] = sarima_mod6.predict(start = start_index, end= end_index, dynamic= True)  \n",
    "train_df[start_index:end_index][['sales', 'forecast']].plot(figsize=(12, 8))"
   ]
  },
  {
   "cell_type": "code",
   "execution_count": null,
   "id": "e78f268e",
   "metadata": {},
   "outputs": [],
   "source": [
    "def smape_kun(y_true, y_pred):\n",
    "    mape = np.mean(abs((y_true-y_pred)/y_true))*100\n",
    "    smape = np.mean((np.abs(y_pred - y_true) * 200/ (np.abs(y_pred) + np.abs(y_true))).fillna(0))\n",
    "    print('MAPE: %.2f %% \\nSMAPE: %.2f'% (mape,smape), \"%\")"
   ]
  },
  {
   "cell_type": "code",
   "execution_count": null,
   "id": "64e4227a",
   "metadata": {},
   "outputs": [],
   "source": [
    "smape_kun(train_df[1730:1825]['sales'],train_df[1730:1825]['forecast'])"
   ]
  },
  {
   "cell_type": "code",
   "execution_count": null,
   "id": "2f761ca1",
   "metadata": {},
   "outputs": [],
   "source": [
    "# per 1 store, 1 item\n",
    "storeid = 1\n",
    "itemid = 1\n",
    "train_df = train[train['store']==storeid]\n",
    "train_df = train_df[train_df['item']==itemid]\n",
    "\n",
    "# train_df = train_df.set_index('date')\n",
    "train_df['year'] = train_df['date'].dt.year - 2012\n",
    "train_df['month'] = train_df['date'].dt.month\n",
    "train_df['day'] = train_df['date'].dt.dayofyear\n",
    "train_df['weekday'] = train_df['date'].dt.weekday\n",
    "\n",
    "start_index = 1730\n",
    "end_index = 1826"
   ]
  },
  {
   "cell_type": "code",
   "execution_count": null,
   "id": "7361eade",
   "metadata": {},
   "outputs": [],
   "source": [
    "holiday = pd.read_csv('../input/holiday/USholidays.csv',header=None, names = ['date', 'holiday'])\n",
    "holiday['date'] = pd.to_datetime(holiday['date'], yearfirst = True, format = '%y/%m/%d')\n",
    "holiday.head()"
   ]
  },
  {
   "cell_type": "code",
   "execution_count": null,
   "id": "1ced737a",
   "metadata": {},
   "outputs": [],
   "source": [
    "train_df = train_df.merge(holiday, how='left', on='date')\n",
    "train_df['holiday_bool'] = pd.notnull(train_df['holiday']).astype(int)\n",
    "train_df = pd.get_dummies(train_df, columns = ['month','holiday','weekday'] , prefix = ['month','holiday','weekday'])\n",
    "# train_df.head()\n",
    "# train_df.shape\n",
    "# train_df.columns"
   ]
  },
  {
   "cell_type": "code",
   "execution_count": null,
   "id": "a22bd1b2",
   "metadata": {},
   "outputs": [],
   "source": [
    "ext_var_list = ['date','year', 'day', 'holiday_bool',\n",
    "       'month_1', 'month_2', 'month_3', 'month_4', 'month_5', 'month_6',\n",
    "       'month_7', 'month_8', 'month_9', 'month_10', 'month_11', 'month_12',\n",
    "       'holiday_Christmas Day', 'holiday_Columbus Day',\n",
    "       'holiday_Independence Day', 'holiday_Labor Day',\n",
    "       'holiday_Martin Luther King Jr. Day', 'holiday_Memorial Day',\n",
    "       'holiday_New Year Day', 'holiday_Presidents Day (Washingtons Birthday)',\n",
    "       'holiday_Thanksgiving Day', 'holiday_Veterans Day', 'weekday_0',\n",
    "       'weekday_1', 'weekday_2', 'weekday_3', 'weekday_4', 'weekday_5',\n",
    "       'weekday_6']"
   ]
  },
  {
   "cell_type": "code",
   "execution_count": null,
   "id": "b274d0cf",
   "metadata": {},
   "outputs": [],
   "source": [
    "exog_data = train_df[ext_var_list]\n",
    "exog_data = exog_data.set_index('date')\n",
    "exog_data.head()"
   ]
  },
  {
   "cell_type": "code",
   "execution_count": null,
   "id": "ee283237",
   "metadata": {},
   "outputs": [],
   "source": [
    "train_df = train_df.set_index('date')\n",
    "# train_df = train_df.reset_index()\n",
    "train_df.head()"
   ]
  },
  {
   "cell_type": "code",
   "execution_count": null,
   "id": "385b30b7",
   "metadata": {},
   "outputs": [],
   "source": [
    "start_index = '2017-10-01'\n",
    "end_index = '2017-12-31'"
   ]
  },
  {
   "cell_type": "code",
   "execution_count": null,
   "id": "3635fee9",
   "metadata": {},
   "outputs": [],
   "source": [
    "%%time\n",
    "sarimax_mod6 = sm.tsa.statespace.SARIMAX(endog = train_df.sales[:start_index],\n",
    "                                        exog = exog_data[:start_index],  \n",
    "                                        trend='n', order=(6,1,0), seasonal_order=(0,1,1,7)).fit()\n",
    "print(sarimax_mod6.summary())"
   ]
  },
  {
   "cell_type": "code",
   "execution_count": null,
   "id": "5731669a",
   "metadata": {},
   "outputs": [],
   "source": [
    "start_index = '2017-10-01'\n",
    "end_index = '2017-12-30'\n",
    "end_index1 = '2017-12-31"
   ]
  },
  {
   "cell_type": "code",
   "execution_count": null,
   "id": "9b80ac7f",
   "metadata": {},
   "outputs": [],
   "source": [
    "train_df['forecast'] = sarimax_mod6.predict(start = pd.to_datetime(start_index), end= pd.to_datetime(end_index1),\n",
    "                                            exog = exog_data[start_index:end_index], \n",
    "                                            dynamic= True)  \n",
    "\n",
    "train_df[start_index:end_index][['sales', 'forecast']].plot(figsize=(12, 8))"
   ]
  },
  {
   "cell_type": "code",
   "execution_count": null,
   "id": "3a34e302",
   "metadata": {},
   "outputs": [],
   "source": [
    "smape_kun(train_df[start_index:end_index]['sales'],train_df[start_index:end_index]['forecast'])"
   ]
  }
 ],
 "metadata": {
  "kernelspec": {
   "display_name": "Python 3 (ipykernel)",
   "language": "python",
   "name": "python3"
  },
  "language_info": {
   "codemirror_mode": {
    "name": "ipython",
    "version": 3
   },
   "file_extension": ".py",
   "mimetype": "text/x-python",
   "name": "python",
   "nbconvert_exporter": "python",
   "pygments_lexer": "ipython3",
   "version": "3.9.7"
  }
 },
 "nbformat": 4,
 "nbformat_minor": 5
}
